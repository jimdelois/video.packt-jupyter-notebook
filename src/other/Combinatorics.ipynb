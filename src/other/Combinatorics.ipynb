{
 "cells": [
  {
   "cell_type": "markdown",
   "id": "454a16d5-1e0c-46aa-a8d3-9dfe1f8d1b46",
   "metadata": {},
   "source": [
    "# Combinatorics\n",
    "Of course, there are things beyond the simple addition and multiplication principles...\n",
    "\n",
    "## Permutations\n",
    "\n",
    "Imagine two balls in a pouch - one is Amber ($A$) and one is Blue ($B$).  How many ways are there to draw the two balls in a specific order?\n",
    "\n",
    "Suppose we first draw the $B$ ball. The remaining ball, $A$, is the only ball that may be drawn thereafter. Similarly, if we first drew $A$, then $B$ could be the only possible following outcome.  So the balls may be drawn in the order of $AB$, or $BA$.  In this way, there are only TWO (2) possible **ordered arrangements** that may be drawn from this set of two balls. An ordered arrangement is also known as a **permutation**.\n",
    "\n",
    "Now let us add a third ball of a different color - suppose this ball is Cyan ($C$).  We would then be considering all possible ordered arrangements of $ABC$, $ACB$, $BAC$, $BCA$, $CAB$, and $CBA$. Where there were previously only two ways to draw two balls, when another is added there becomes SIX (6) ways to draw from the three.\n",
    "\n",
    "Intuitively, this makes sense when you consider having three open slots in which to place each ball blindly pulled from the pouch.  In the first draw, there are THREE (3) separate balls that might be selected at random and placed into the first slot.  We follow the **multiplication principle** to calculate how many ways multiple things may _all_ occur.\n",
    "\n",
    "Because we know there are three ways to fill the first slot, we enter a $3$ into that space to represent the fact that there are three possibilities: $$\\underline{3} \\times \\underline{ }  \\times \\underline{ }$$\n",
    "\n",
    "The remaining number of balls to draw from is $2$, and then only $1$ after that, so we fill the the remaining slots, and multiply them all together to calculate the number of ways to draw each number into any of the slots: $$\\underline{3} \\times \\underline{2}  \\times \\underline{1} = 6$$\n",
    "\n",
    "We confirm that there are six possible ways to arrange three balls when drawing from a collection of three.\n"
   ]
  }
 ],
 "metadata": {
  "kernelspec": {
   "display_name": "Python 3 (ipykernel)",
   "language": "python",
   "name": "python3"
  },
  "language_info": {
   "codemirror_mode": {
    "name": "ipython",
    "version": 3
   },
   "file_extension": ".py",
   "mimetype": "text/x-python",
   "name": "python",
   "nbconvert_exporter": "python",
   "pygments_lexer": "ipython3",
   "version": "3.11.6"
  }
 },
 "nbformat": 4,
 "nbformat_minor": 5
}
